{
 "cells": [
  {
   "cell_type": "code",
   "execution_count": 1,
   "id": "97a4e45f-dd36-4946-8fcf-392adfc00d95",
   "metadata": {},
   "outputs": [],
   "source": [
    "%matplotlib inline\n",
    "\n",
    "import numpy as np\n",
    "import matplotlib.pyplot as plt\n",
    "\n",
    "BoiseState_blue = \"#0033A0\"\n",
    "BoiseState_orange = \"#D64309\"\n",
    "aspect_ratio = 16./9."
   ]
  },
  {
   "cell_type": "code",
   "execution_count": 3,
   "id": "e819f662-c11b-4a4f-b741-ac4edb085ff1",
   "metadata": {},
   "outputs": [],
   "source": [
    "def calc_Ptop_scaling(r):\n",
    "    return r**(3./2)*np.exp(-r)"
   ]
  },
  {
   "cell_type": "code",
   "execution_count": null,
   "id": "a0716f09-18b5-4311-8d9a-361b58f4f7c5",
   "metadata": {},
   "outputs": [],
   "source": [
    "fig = plt.figure(figsize=(6*aspect_ratio, 6))\n",
    "ax = fig.add_subplot(111)\n",
    "\n",
    "r = np.linspace(0., 10., 100)\n",
    "Ptop_scaling = calc_Ptop_scaling(r)\n",
    "\n",
    "ax.plot(r, Ptop_scaling, lw=3, color=BoiseState_blue)\n",
    "\n",
    "ax.axvline(3./2, lw=3, ls='--', color='k')\n",
    "ax.text(0.75, 0.05, r'$r = \\frac{3}{2}$', rotation=90, fontsize=24)\n",
    "\n",
    "ax.tick_params(labelsize=18)\n",
    "ax.set_xlabel(r'$r = \\alpha \\left( \\frac{\\dot{V}}{g^{1/2} L} \\right)^{3/2}$', fontsize=24)\n",
    "ax.set_ylabel(r'$P_{\\rm top}\\,\\left( {\\rm Arb. Units} \\right)$', fontsize=24)\n",
    "ax.grid(True)"
   ]
  }
 ],
 "metadata": {
  "kernelspec": {
   "display_name": "Python 3 (ipykernel)",
   "language": "python",
   "name": "python3"
  },
  "language_info": {
   "codemirror_mode": {
    "name": "ipython",
    "version": 3
   },
   "file_extension": ".py",
   "mimetype": "text/x-python",
   "name": "python",
   "nbconvert_exporter": "python",
   "pygments_lexer": "ipython3",
   "version": "3.12.5"
  }
 },
 "nbformat": 4,
 "nbformat_minor": 5
}
